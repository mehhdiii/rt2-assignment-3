{
  "nbformat": 4,
  "nbformat_minor": 0,
  "metadata": {
    "colab": {
      "provenance": []
    },
    "kernelspec": {
      "name": "python3",
      "display_name": "Python 3"
    },
    "language_info": {
      "name": "python"
    }
  },
  "cells": [
    {
      "cell_type": "markdown",
      "source": [
        "# The Null Hypothesis\n",
        "Both the algorithms have same total_time and time_to_look_for_object.\n",
        "\n",
        "# The Hypothesis\n",
        "The algorithm will outperform the colleagues algorithm in terms of total_time to pick all objects from their respective locations and collect them at one location. Furthermore, the algorithm's discovery time (time_to_look_for_object) for the next marker to pick, will also be less than the colleagues discovery time (time_to_look_for_object).\n"
      ],
      "metadata": {
        "id": "mvqE4TgMJ0hK"
      }
    },
    {
      "cell_type": "markdown",
      "source": [
        "# Experimental Data"
      ],
      "metadata": {
        "id": "H3gIAZ-xBg0N"
      }
    },
    {
      "cell_type": "markdown",
      "source": [
        "|   experiment_number |   BOXES | time_to_look_for_object                                                                                                             | time_to_reach_object                                                                                                                                                                                                             |   total_time |\n",
        "|--------------------:|--------:|:------------------------------------------------------------------------------------------------------------------------------------|:---------------------------------------------------------------------------------------------------------------------------------------------------------------------------------------------------------------------------------|-------------:|\n",
        "|                   1 |       4 | 0.000249862670898, 0.804249048233, 1.60819101334, 1.60764503479                                                                     | 9.6898329258, 3.14928197861, 3.95814394951, 7.22190093994, 5.76771807671, 5.01691102982, 3.76102685928                                                                                                                           |      53.9973 |\n",
        "|                   2 |       4 | 0.00117087364197, 0.908592939377, 1.50734710693, 1.60885691643                                                                      | 9.99942994118, 3.50953888893, 3.56920385361, 6.45661997795, 5.96002006531, 5.2819480896, 3.86164999008                                                                                                                           |      54.0795 |\n",
        "|                   3 |       4 | 0.000277996063232, 0.904623031616, 1.5078151226, 1.50661802292                                                                      | 10.9388980865, 3.85139894485, 3.85655117035, 7.15810084343, 6.8346657753, 5.20096802711, 3.9992749691                                                                                                                            |      57.1714 |\n",
        "|                   4 |       4 | 0.000571966171265, 0.90417599678, 1.60682702065, 1.61071896553                                                                      | 10.0245089531, 3.58918905258, 3.60188317299, 7.15653800964, 6.45172119141, 5.39675188065, 3.92401099205                                                                                                                          |      55.682  |\n",
        "|                   5 |       4 | 0.00198006629944, 0.904637813568, 1.61462807655, 1.60979890823                                                                      | 10.0341520309, 3.48223805428, 3.86971592903, 7.04497694969, 6.31741309166, 4.97247195244, 3.84919500351                                                                                                                          |      55.1176 |\n",
        "|                   6 |       5 | 0.00100183486938, 0.904686927795, 1.40819311142, 1.40703701973, 1.60875296593                                                       | 9.47164702415, 2.5050330162, 2.66319179535, 5.9948220253, 5.34378600121, 6.4102640152, 5.88060998917, 4.11973595619, 2.89936208725                                                                                               |      65.135  |\n",
        "|                   7 |       5 | 0.000535011291504, 0.904756069183, 1.41085100174, 1.50926995277, 1.60704994202                                                      | 10.0618999004, 2.25940418243, 2.70209908485, 27.0548400879, 5.28717303276, 6.02890300751, 6.01894593239, 4.25667095184, 2.96362495422                                                                                            |      86.5852 |\n",
        "|                   8 |       5 | 0.000139951705933, 0.906198978424, 1.50964689255, 1.40603709221, 1.50871396065                                                      | 10.3096089363, 2.3566801548, 2.70861196518, 6.00116801262, 5.81419610977, 6.60466694832, 5.88669991493, 3.71527194977, 3.02911806107                                                                                             |      66.2744 |\n",
        "|                   9 |       5 | 0.000221014022827, 0.905586004257, 1.50920510292, 1.40668702126, 1.50927615166                                                      | 10.0765120983, 2.34872889519, 2.74825811386, 6.75923800468, 5.87638998032, 6.48913502693, 5.38392400742, 3.89267492294, 2.4683880806                                                                                             |      65.8945 |\n",
        "|                  10 |       5 | 0.000982999801636, 0.908898830414, 1.50747394562, 1.50704693794, 1.60913705826                                                      | 10.268750906, 2.31644201279, 2.73076200485, 6.56803488731, 5.41426086426, 6.59677219391, 4.9934899807, 3.99492287636, 2.59268903732                                                                                              |      65.5269 |\n",
        "|                  11 |       6 | 0.000316858291626, 0.000407934188843, 0.000509977340698, 0.504227161407, 1.40772914886, 1.40616106987                               | 2.52325320244, 6.43504118919, 1.71362900734, 6.97871804237, 2.17695212364, 7.59637498856, 4.75402212143, 5.69643902779, 5.21953606606, 4.84065508842, 55.7359881401                                                              |     124.615  |\n",
        "|                  12 |       6 | 0.000555992126465, 0.000566005706787, 1.40694880486, 1.40796399117, 1.40925192833, 1.60701704025                                    | 2.65479278564, 6.20473790169, 2.40105700493, 6.3398630619, 5.33350300789, 7.5662009716, 5.74423098564, 6.33257603645, 43.0977189541, 3.16021609306, 2.43573498726                                                                |     114.722  |\n",
        "|                  13 |       6 | 0.000205993652344, 0.00049901008606, 0.000345945358276, 1.40668296814, 1.40735387802, 1.51758003235                                 | 2.51509189606, 6.42175602913, 3.12806797028, 5.57602286339, 1.90048408508, 5.60877490044, 5.08351588249, 7.02583193779, 5.71824288368, 5.29210591316, 4.48729896545                                                              |      74.7082 |\n",
        "|                  14 |       6 | 0.00127696990967, 0.00054407119751, 1.40711784363, 1.40856003761, 1.40827512741, 1.50784802437                                      | 2.62462306023, 7.10259413719, 2.27204608917, 6.64378595352, 5.31460309029, 6.20393109322, 6.3114361763, 5.34738779068, 16.8542239666, 3.02429103851, 2.31316304207                                                               |      87.3658 |\n",
        "|                  15 |       6 | 0.000547170639038, 0.000178098678589, 0.000648975372314, 0.401981115341, 1.30733299255, 1.40856194496                               | 2.64994001389, 6.04337286949, 1.97511291504, 6.4799311161, 2.48966193199, 7.18271684647, 4.97906112671, 6.65153503418, 5.03261590004, 4.86949801445, 11.6896169186                                                               |      80.7833 |\n",
        "|                  16 |       7 | 0.00237393379211, 0.000403881072998, 0.904464006424, 1.40694284439, 1.30634403229, 1.40761709213, 1.60846805573                     | 1.95796918869, 9.47729802132, 4.695114851, 1.701649189, 1.04423999786, 6.06973791122, 5.66347694397, 6.46219110489, 5.50304317474, 5.13625192642, 3.98742604256, 2.78953099251, 1.94338297844                                    |      83.7916 |\n",
        "|                  17 |       7 | 0.000365018844604, 0.000808000564575, 0.904978990555, 1.40864396095, 1.40775084496, 1.40720891953, 1.61045598984                    | 1.98866295815, 9.29420208931, 5.09133791924, 1.76870203018, 1.17626214027, 6.6674079895, 6.01360297203, 6.62702584267, 5.74968099594, 4.68178486824, 3.92603898048, 2.28344893456, 1.72231411934                                 |      84.4545 |\n",
        "|                  18 |       7 | 0.000445127487183, 0.000592947006226, 1.40800881386, 1.40809297562, 1.40947508812, 1.40801811218, 1.61186099052                     | 1.98817300797, 5.52416396141, 1.80640292168, 5.61378192902, 4.5497610569, 6.53053808212, 6.41922497749, 7.08168506622, 5.68157505989, 5.442745924, 4.22849202156, 2.77856993675, 2.40681409836                                   |      88.0228 |\n",
        "|                  19 |       7 | 0.000293970108032, 0.000176906585693, 0.000327825546265, 0.402552127838, 1.31012392044, 1.30671095848, 1.40703988075                | 2.09317016602, 5.91200709343, 2.08317112923, 6.21700692177, 1.91078400612, 7.47142601013, 4.46154117584, 6.09643101692, 5.95140218735, 5.70704603195, 5.57630896568, 4.81311702728, 3.59668183327                                |      87.0355 |\n",
        "|                  20 |       7 | 0.000545024871826, 0.000288963317871, 0.00062108039856, 0.403012037277, 1.30729007721, 1.40734004974, 1.40854120255                 | 1.98622393608, 5.05870294571, 1.93839287758, 5.19564986229, 2.13626599312, 6.34399294853, 4.58398795128, 6.59748411179, 5.6535449028, 6.28282094002, 5.47820401192, 4.54890084267, 3.70799612999                                 |      84.7628 |\n",
        "|                  21 |       8 | 0.000349998474121, 0.000180006027222, 0.30402302742, 1.10589289665, 0.000204086303711, 0.403321027756, 1.40819811821, 1.71239805222 | 1.58688211441, 10.0799341202, 6.2084479332, 3.57055497169, 0.752028942108, 3.85034704208, 3.07051706314, 4.61545300484, 1.48157382011, 7.44265198708, 4.79940199852, 5.6500120163, 5.02509403229, 4.67466688156, 3.01152205467   |      94.5835 |\n",
        "|                  22 |       8 | 0.00129318237305, 0.000195026397705, 0.904999017715, 1.20845198631, 1.30694007874, 1.30753684044, 1.40669322014, 1.60850310326      | 1.49381685257, 7.26274204254, 4.36357092857, 1.2811691761, 0.638833045959, 5.70672893524, 5.34170293808, 5.87974596024, 5.80986905098, 6.16859602928, 5.13147783279, 4.577865839, 3.06351280212, 2.52610683441, 1.71273899078    |      92.5301 |\n",
        "|                  23 |       8 | 0.00150084495544, 0.000252962112427, 0.302201032639, 1.10669398308, 0.000283002853394, 0.402635097504, 1.40724301338, 1.6126909256  | 1.49323701859, 9.2178580761, 5.89641308784, 3.92468905449, 0.975960016251, 3.9509100914, 3.27466392517, 5.38496899605, 1.58262014389, 6.34539103508, 4.75668096542, 5.54871892929, 4.52018499374, 4.47093510628, 2.83506393433   |      92.8451 |\n",
        "|                  24 |       8 | 0.000280141830444, 0.000290155410767, 0.905580043793, 1.10934185982, 1.40773391724, 1.40766692162, 1.40750718117, 1.60987091064     | 1.59043312073, 8.59750795364, 3.99392700195, 1.50732207298, 0.201210021973, 5.48848795891, 5.22414088249, 6.62466692924, 5.35376501083, 5.60926580429, 4.59264302254, 4.38618302345, 3.38757896423, 2.48636484146, 2.07397294044 |      92.7992 |\n",
        "|                  25 |       8 | 0.00147986412048, 0.000231027603149, 0.302547931671, 1.00575304031, 1.40676689148, 1.4101088047, 1.60886001587, 1.60985517502       | 1.45685386658, 9.5875711441, 6.01178002357, 3.47285318375, 0.812417984009, 4.11710309982, 3.35668611526, 5.66835618019, 4.98839092255, 6.03227996826, 5.05011487007, 4.96647405624, 3.55896282196, 2.6535680294, 1.81118702888   |      94.7193 |"
      ],
      "metadata": {
        "id": "FjIHnyMT_xDU"
      }
    },
    {
      "cell_type": "markdown",
      "source": [
        "# Analysis"
      ],
      "metadata": {
        "id": "JEk6N0_vBlZA"
      }
    },
    {
      "cell_type": "code",
      "source": [
        "import scipy.stats as stats\n",
        "import math\n",
        "def calculate_average():\n",
        "  with open('sample_data/measurement.txt', 'r') as file:\n",
        "    lines = file.readlines()\n",
        "    total_time = 0\n",
        "    x1_prime = []\n",
        "\n",
        "    total_time_per_box = 0\n",
        "    x1 = []\n",
        "\n",
        "    N1 = 0\n",
        "    sigma1 = None\n",
        "\n",
        "    time_to_reach_object = 0\n",
        "    x2 = []\n",
        "    N2 = 0\n",
        "\n",
        "    time_to_look_for_object = 0\n",
        "    x3 = []\n",
        "    N3 = 0\n",
        "\n",
        "    boxes = None\n",
        "\n",
        "    for line in lines:\n",
        "      if 'BOXES:' in line:\n",
        "        boxes = int(line.split(' ')[1].strip('\\n'))\n",
        "\n",
        "      elif 'total_time' in line:\n",
        "        total_time_per_box += float(line.split(' ')[1].strip('\\n'))/boxes\n",
        "        total_time += float(line.split(' ')[1].strip('\\n'))\n",
        "        x1.append(float(line.split(' ')[1].strip('\\n'))/boxes)\n",
        "        x1_prime.append(float(line.split(' ')[1].strip('\\n')))\n",
        "        N1+=1\n",
        "      elif 'time_to_reach_object' in line:\n",
        "        time_to_reach_object += float(line.split(' ')[1].strip('\\n'))\n",
        "        x2.append(float(line.split(' ')[1].strip('\\n')))\n",
        "        N2+=1\n",
        "      elif 'time_to_look_for_object' in line:\n",
        "        time_to_look_for_object += float(line.split(' ')[1].strip('\\n'))\n",
        "        x3.append(float(line.split(' ')[1].strip('\\n')))\n",
        "        N3+=1\n",
        "\n",
        "\n",
        "    sum_ = 0\n",
        "    meu = total_time_per_box/N1\n",
        "    for i in x1:\n",
        "      sum_ = (sum_ + (i - meu)**2)\n",
        "\n",
        "    sigma1 = math.sqrt(sum_/N1)\n",
        "\n",
        "\n",
        "    sum_ = 0\n",
        "    meu = total_time/N1\n",
        "    for i in x1_prime:\n",
        "      sum_ = (sum_ + (i - meu)**2)\n",
        "\n",
        "    sigma1_prime = math.sqrt(sum_/N1)\n",
        "\n",
        "    sum_ = 0\n",
        "    meu = time_to_reach_object/N2\n",
        "    for i in x2:\n",
        "      sum_ = (sum_ + (i - meu)**2)\n",
        "\n",
        "    sigma2 = math.sqrt(sum_/N1)\n",
        "\n",
        "    sum_ = 0\n",
        "    meu = time_to_look_for_object/N2\n",
        "    for i in x3:\n",
        "      sum_ = (sum_ + (i - meu)**2)\n",
        "\n",
        "    sigma3 = math.sqrt(sum_/N3)\n",
        "\n",
        "    return (total_time_per_box/N1, total_time/N1, time_to_reach_object/N2, time_to_look_for_object/N3), (sigma1, sigma1_prime, sigma2, sigma3), N1, N2, N3\n",
        "\n",
        "(total_time_per_box_mean, total_time_mean, time_to_reach_mean, time_to_look_for_object_mean), (total_time_per_box_std, total_time_std, time_to_reach_std, time_to_look_for_object_std), N1, N2, N3 =  calculate_average()\n",
        "# print(total_time_per_box_mean, time_to_reach_mean, total_time_per_box_std, time_to_reach_std )\n",
        "\n",
        "print('total_time:')\n",
        "print('std:', total_time_std)\n",
        "print('mean:', total_time_mean)\n",
        "print('sample_size:', N1)\n",
        "\n",
        "print()\n",
        "print('time_to_reach:')\n",
        "print('mean:', time_to_reach_mean)\n",
        "print('std:', time_to_reach_std)\n",
        "print('sample_size:', N2)\n",
        "\n",
        "print()\n",
        "print('time_to_look_for_object:')\n",
        "print('mean:', time_to_look_for_object_mean)\n",
        "print('std:', time_to_look_for_object_std)\n",
        "print('sample_size:', N3)\n"
      ],
      "metadata": {
        "colab": {
          "base_uri": "https://localhost:8080/"
        },
        "id": "fxD-dmNACLCd",
        "outputId": "69f66b07-6611-4684-94c3-912f22bf3d83"
      },
      "execution_count": 25,
      "outputs": [
        {
          "output_type": "stream",
          "name": "stdout",
          "text": [
            "total_time:\n",
            "std: 18.2266901176514\n",
            "mean: 80.12809763912\n",
            "sample_size: 25\n",
            "\n",
            "time_to_reach:\n",
            "mean: 5.203173616582364\n",
            "std: 15.420838405452603\n",
            "sample_size: 275\n",
            "\n",
            "time_to_look_for_object:\n",
            "mean: 0.8786553049090079\n",
            "std: 0.7733215580357345\n",
            "sample_size: 150\n"
          ]
        }
      ]
    },
    {
      "cell_type": "markdown",
      "source": [
        "# Total simulation time (total_time) Comparision using t-test"
      ],
      "metadata": {
        "id": "e7JxZsQfDJUM"
      }
    },
    {
      "cell_type": "code",
      "source": [
        "# Sample size\n",
        "n1 = N1\n",
        "n2 = N1 #colleague's value\n",
        "\n",
        "# Mean time\n",
        "mean1 = total_time_mean\n",
        "mean2 = 98.86 #colleague's value\n",
        "\n",
        "# Standard deviation\n",
        "std1 = total_time_std\n",
        "std2 = 23.71 #colleague's value\n",
        "\n",
        "# Calculate the t statistic and two-tailed p value\n",
        "t_stat, p_value = stats.ttest_ind_from_stats(mean1, std1, n1, mean2, std2, n2)\n",
        "\n",
        "# print(f\"t statistic: {t_stat}\")\n",
        "print(f\"p value: {p_value}\")\n",
        "if (p_value<0.05):\n",
        "    print('We can reject the null hypothesis since p_value =) < 0.05')"
      ],
      "metadata": {
        "colab": {
          "base_uri": "https://localhost:8080/"
        },
        "id": "XQXfvMrTCcNv",
        "outputId": "ab04261d-4ae3-4281-cbbf-4fcbde9e3145"
      },
      "execution_count": 18,
      "outputs": [
        {
          "output_type": "stream",
          "name": "stdout",
          "text": [
            "p value: 0.0021153469507937408\n",
            "We can reject the null hypothesis since p_value =) < 0.05\n"
          ]
        }
      ]
    },
    {
      "cell_type": "markdown",
      "source": [
        "# Time to locate next marker (time_to_look_for_object) comparision using t-test\n"
      ],
      "metadata": {
        "id": "Xn_zT-P9EJWl"
      }
    },
    {
      "cell_type": "code",
      "source": [
        "# Sample size\n",
        "n1 = N3\n",
        "n2 = N3-1 #colleague's value\n",
        "\n",
        "# Mean time\n",
        "mean1 = time_to_look_for_object_mean\n",
        "mean2 = 1.63 #colleague's value\n",
        "\n",
        "# Standard deviation\n",
        "std1 = time_to_look_for_object_std\n",
        "std2 = 1.60 #colleague's value\n",
        "\n",
        "# Calculate the t statistic and two-tailed p value\n",
        "t_stat, p_value = stats.ttest_ind_from_stats(mean1, std1, n1, mean2, std2, n2)\n",
        "\n",
        "# print(f\"t statistic: {t_stat}\")\n",
        "print(f\"p value: {p_value}\")\n",
        "if (p_value<0.05):\n",
        "    print('We can reject the null hypothesis since p_value =) < 0.05')"
      ],
      "metadata": {
        "colab": {
          "base_uri": "https://localhost:8080/"
        },
        "id": "3ztxSgNGEK7V",
        "outputId": "c1bc5eb3-3eed-4ac6-b57b-42a081de7091"
      },
      "execution_count": 28,
      "outputs": [
        {
          "output_type": "stream",
          "name": "stdout",
          "text": [
            "p value: 4.205391849992012e-07\n",
            "We can reject the null hypothesis since p_value =) < 0.05\n"
          ]
        }
      ]
    },
    {
      "cell_type": "markdown",
      "source": [
        "Since for both metrics (total_time, time_to_look_for_object), the mean is better (lesser) than the colleagues algorithm, we conclude that our hypothesis holds **true**\n",
        "\n",
        "```\n",
        "Total time comparision:\n",
        "total_time_mean (ours) = 80.12809763912\n",
        "total_time_mean (colleagues) = 98.86\n",
        "\n",
        "Time to look for next object comparision:\n",
        "time_to_look_for_object_mean (ours) = 0.8786553049090079\n",
        "time_to_look_for_object_mean (colleagues) = 1.63\n",
        "\n",
        "```\n",
        "\n",
        "\n"
      ],
      "metadata": {
        "id": "oMAmrtIXTcYk"
      }
    }
  ]
}